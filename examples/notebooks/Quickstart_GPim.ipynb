{
  "nbformat": 4,
  "nbformat_minor": 0,
  "metadata": {
    "colab": {
      "name": "Quickstart_GPim.ipynb",
      "provenance": [],
      "authorship_tag": "ABX9TyNN/VChPUnY2hFtO2ZJ9aIP",
      "include_colab_link": true
    },
    "kernelspec": {
      "name": "python3",
      "display_name": "Python 3"
    }
  },
  "cells": [
    {
      "cell_type": "markdown",
      "metadata": {
        "id": "view-in-github",
        "colab_type": "text"
      },
      "source": [
        "<a href=\"https://colab.research.google.com/github/ziatdinovmax/GPim/blob/master/examples/notebooks/Quickstart_GPim.ipynb\" target=\"_parent\"><img src=\"https://colab.research.google.com/assets/colab-badge.svg\" alt=\"Open In Colab\"/></a>"
      ]
    },
    {
      "cell_type": "markdown",
      "metadata": {
        "id": "i_BZIFVcPgUA",
        "colab_type": "text"
      },
      "source": [
        "## Quickstart: GPim in the Cloud\n",
        "\n",
        "The easiest way to start using GPim is via [Google Colab](https://colab.research.google.com/notebooks/intro.ipynb), which is a free research tool from Google for machine learning education and research built on top of Jupyter Notebook. The following notebooks can be executed in Google Colab by simply clicking on \"Open in Colab\" icon:\n",
        "<br><br>\n",
        "\n",
        "\n",
        "1) Application of GP to sparse 2D and 3D datasets [![Open In Colab](https://colab.research.google.com/assets/colab-badge.svg)](https://colab.research.google.com/github/ziatdinovmax/GPim/blob/master/examples/notebooks/GP_2D3D_images.ipynb)\n",
        "\n",
        "\n",
        "3) Application of GP to 4D spectroscopic dataset (smoothing and resolution enhancement) [![Open In Colab](https://colab.research.google.com/assets/colab-badge.svg)](https://colab.research.google.com/github/ziatdinovmax/GPim/blob/master/examples/notebooks/GP_TD_cKPFM.ipynb)"
      ]
    },
    {
      "cell_type": "code",
      "metadata": {
        "id": "SVVwpHMdP6Ab",
        "colab_type": "code",
        "colab": {}
      },
      "source": [
        ""
      ],
      "execution_count": 0,
      "outputs": []
    }
  ]
}